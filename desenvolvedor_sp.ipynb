{
  "nbformat": 4,
  "nbformat_minor": 0,
  "metadata": {
    "colab": {
      "provenance": [],
      "authorship_tag": "ABX9TyPHBfIb5ZiVdlRvFGcjSUOv",
      "include_colab_link": true
    },
    "kernelspec": {
      "name": "python3",
      "display_name": "Python 3"
    },
    "language_info": {
      "name": "python"
    }
  },
  "cells": [
    {
      "cell_type": "markdown",
      "metadata": {
        "id": "view-in-github",
        "colab_type": "text"
      },
      "source": [
        "<a href=\"https://colab.research.google.com/github/Feliperamos0677/desenvolvedor-sp/blob/main/desenvolvedor_sp.ipynb\" target=\"_parent\"><img src=\"https://colab.research.google.com/assets/colab-badge.svg\" alt=\"Open In Colab\"/></a>"
      ]
    },
    {
      "cell_type": "code",
      "execution_count": 1,
      "metadata": {
        "colab": {
          "base_uri": "https://localhost:8080/"
        },
        "id": "ti-KmVVJvqb_",
        "outputId": "f1686955-801a-4184-c616-5b12629adcd4"
      },
      "outputs": [
        {
          "output_type": "stream",
          "name": "stdout",
          "text": [
            "91\n"
          ]
        }
      ],
      "source": [
        "#1\n",
        "INDICE = 13\n",
        "SOMA = 0\n",
        "K = 0\n",
        "\n",
        "while K < INDICE:\n",
        "    K = K + 1\n",
        "    SOMA = SOMA + K\n",
        "\n",
        "print(SOMA)"
      ]
    },
    {
      "cell_type": "code",
      "source": [
        "#2\n",
        "def fibonacci(n):\n",
        "    \"\"\"Função que retorna o n-ésimo número da sequência de Fibonacci\"\"\"\n",
        "    if n <= 1:\n",
        "        return n\n",
        "    else:\n",
        "        return fibonacci(n-1) + fibonacci(n-2)\n",
        "\n",
        "def verifica_fibonacci(num):\n",
        "    \"\"\"Função que verifica se um número pertence à sequência de Fibonacci\"\"\"\n",
        "    i = 0\n",
        "    while fibonacci(i) <= num:\n",
        "        if fibonacci(i) == num:\n",
        "            return True\n",
        "        i += 1\n",
        "    return False\n",
        "\n",
        "# Exemplo de uso:\n",
        "num = int(input(\"Informe um número: \"))\n",
        "if verifica_fibonacci(num):\n",
        "    print(f\"{num} pertence à sequência de Fibonacci.\")\n",
        "else:\n",
        "    print(f\"{num} não pertence à sequência de Fibonacci.\")"
      ],
      "metadata": {
        "id": "6kl0cA7ivyWc"
      },
      "execution_count": null,
      "outputs": []
    },
    {
      "cell_type": "code",
      "source": [
        "#3\n",
        "import json\n",
        "\n",
        "# Lê o arquivo JSON com os dados de faturamento diário\n",
        "with open('faturamento.json', 'r') as file:\n",
        "    dados_faturamento = json.load(file)\n",
        "\n",
        "# Cria uma lista com os valores de faturamento diário\n",
        "valores_faturamento = list(dados_faturamento.values())\n",
        "\n",
        "# Calcula o menor valor de faturamento ocorrido em um dia do mês\n",
        "menor_valor = min(valores_faturamento)\n",
        "\n",
        "# Calcula o maior valor de faturamento ocorrido em um dia do mês\n",
        "maior_valor = max(valores_faturamento)\n",
        "\n",
        "# Calcula a média mensal de faturamento diário\n",
        "dias_no_mes = len(valores_faturamento)\n",
        "soma_faturamento = sum(valores_faturamento)\n",
        "media_mensal = soma_faturamento / dias_no_mes\n",
        "\n",
        "# Calcula o número de dias no mês em que o valor de faturamento diário foi superior à média mensal\n",
        "dias_acima_da_media = 0\n",
        "for valor in valores_faturamento:\n",
        "    if valor > media_mensal:\n",
        "        dias_acima_da_media += 1\n",
        "\n",
        "# Imprime os resultados\n",
        "print(f\"Menor valor de faturamento: R${menor_valor:.2f}\")\n",
        "print(f\"Maior valor de faturamento: R${maior_valor:.2f}\")\n",
        "print(f\"Dias com faturamento acima da média mensal: {dias_acima_da_media}\")\n"
      ],
      "metadata": {
        "id": "FJZnQ7J4v-yZ"
      },
      "execution_count": null,
      "outputs": []
    },
    {
      "cell_type": "code",
      "source": [
        "#4\n",
        "# Define o faturamento mensal de cada estado em um dicionário\n",
        "faturamento_mensal = {\n",
        "    \"SP\": 67836.43,\n",
        "    \"RJ\": 36678.66,\n",
        "    \"MG\": 29229.88,\n",
        "    \"ES\": 27165.48,\n",
        "    \"Outros\": 19849.53\n",
        "}\n",
        "\n",
        "# Calcula o faturamento total mensal da distribuidora\n",
        "faturamento_total = sum(faturamento_mensal.values())\n",
        "\n",
        "# Calcula o percentual de representação de cada estado\n",
        "percentual_por_estado = {}\n",
        "for estado, faturamento in faturamento_mensal.items():\n",
        "    percentual = (faturamento / faturamento_total) * 100\n",
        "    percentual_por_estado[estado] = percentual\n",
        "\n",
        "# Imprime os resultados\n",
        "for estado, percentual in percentual_por_estado.items():\n",
        "    print(f\"{estado}: {percentual:.2f}%\")"
      ],
      "metadata": {
        "id": "L_XlnNNawM2i"
      },
      "execution_count": null,
      "outputs": []
    },
    {
      "cell_type": "code",
      "source": [
        "#5\n",
        "# Define a string a ser invertida\n",
        "string_original = \"Exemplo de string a ser invertida\"\n",
        "\n",
        "# Cria uma lista com os caracteres da string original\n",
        "lista_caracteres = list(string_original)\n",
        "\n",
        "# Inverte a ordem da lista\n",
        "lista_caracteres.reverse()\n",
        "\n",
        "# Cria uma nova string com os caracteres invertidos\n",
        "string_invertida = \"\".join(lista_caracteres)\n",
        "\n",
        "# Imprime a string invertida\n",
        "print(string_invertida)"
      ],
      "metadata": {
        "id": "BZNfVUiiwdSA"
      },
      "execution_count": null,
      "outputs": []
    }
  ]
}